{
 "cells": [
  {
   "cell_type": "markdown",
   "metadata": {
    "collapsed": true
   },
   "source": [
    "#  The Monty Hall Problem - Lab\n",
    "\n",
    "## Introduction\n",
    "\n",
    "This lab requires you to deal with one of the popular probability problems. i.e. the Monty Hall Problem. Do some quick background search about Monty Hall and his quiz show to see how this problem came about. Here we shall quickly introduce the problem and take you through a series of exercises towards its solution.\n",
    "\n",
    "## Objectives\n",
    "\n",
    "You will be able to:\n",
    "* Understand and describe the Monty Hall problem in probabilistic terms\n",
    "* Solve the Monty Hall problem using Bayesian Logic and mathematical manipulations\n",
    "* Run a simulation to find the optimal answer for the problem, and check if it matches your calculations\n",
    "\n",
    "## The Problem\n",
    "\n",
    "#### You are on a game show, and you're given the choice of three doors.  Behind one door is a car, behind the others, goats. You pick a door, say No. 1, and the host, who knows what's behind the doors, opens another door, say No. 3, which has a goat. He then says to you, \"Do you want to pick door No. 2?\" \n",
    "\n",
    "### Is it to your advantage to change your choice , or would you rather stick with your initial choice?\n",
    "\n",
    "<img src=\"https://i.ytimg.com/vi/4Lb-6rxZxx0/maxresdefault.jpg\" width=600>\n",
    "\n",
    "This is a classical probability problem and shown here in the simplest form. Wikipedia maintains an excellent document on this problem , explanations and solutions presented, along with a critique of approaches. [Visit think link](https://en.wikipedia.org/wiki/Monty_Hall_problem) and have a quick read through introduction part to understand why this is such a popular puzzle to solve. \n",
    "\n",
    "Once you clearly understand the problem, answer following questions:\n"
   ]
  },
  {
   "cell_type": "markdown",
   "metadata": {},
   "source": [
    "## Part A: \n",
    "What does your intuition say?  Is it in your best interest to switch the door ? "
   ]
  },
  {
   "cell_type": "markdown",
   "metadata": {},
   "source": [
    "Our intuition says no "
   ]
  },
  {
   "cell_type": "markdown",
   "metadata": {},
   "source": [
    "## Part B\n",
    "Let's assume that you pick door number 1 and Monty opens door number 3.  The question then is whether you stick with door number 1 or switch to door number 2. Let $D_i$ be the event that the car is actually behind door $i$.  Let $H$ be the event that Monty opens door number 3. First, compute $P(H \\mid D_i)$ for $i=1,2,3$.  You'll need to think carefully about the particular situation described above."
   ]
  },
  {
   "cell_type": "markdown",
   "metadata": {},
   "source": [
    "* P(Monty opens door 3| prize is in door 1) if i were 1 = 1/2\n",
    "* P(Monty opens door 3| prize is in door 2) if i were 2 = 1 \n",
    "* P(Monty opens door 3| prize is in door 3) if i were 3 = 0 "
   ]
  },
  {
   "cell_type": "markdown",
   "metadata": {},
   "source": [
    "## Part C\n",
    "Use your results from **Part B** and the Law of Total Probability to compute $P(H)$"
   ]
  },
  {
   "cell_type": "markdown",
   "metadata": {},
   "source": [
    "- P(H) = p(H|D1) x p(D1) +  p(H|D2) x p(D2) + p(H|D3) x p(D3)\n",
    "- P(H) = (1/2) x (1/3) + (1) x (1/3) + (0) x (1/3)\n",
    "- P(H) = (1/6) + (1/3) = 1/2 "
   ]
  },
  {
   "cell_type": "markdown",
   "metadata": {},
   "source": [
    "## Part D \n",
    "Now, use Bayes' Rule to compute $P(D_i \\mid H)$ for $i=1$ and $2$ (because these are the doors we care about). "
   ]
  },
  {
   "cell_type": "markdown",
   "metadata": {},
   "source": [
    "$$ p(D_1 | H) = \\frac{P(H \\mid D_1)P(D_1)}{P(H)} = \\frac{\\frac{1}{2} \\cdot \\frac{1}{3}}{\\frac{1}{2}} = \\frac{1}{3} ~~~~~~~~ \\textrm{and} ~~~~~~~~ p(D_2 | H) = \\frac{P(H \\mid D_2)P(D_2)}{P(H)} = \\frac{1 \\cdot \\frac{1}{3}}{\\frac{1}{2}} = \\frac{2}{3} $$\n",
    "\n",
    "Thus if we switch we have a probability of $\\frac{2}{3}$ of winning the car.\n",
    "\n"
   ]
  },
  {
   "cell_type": "markdown",
   "metadata": {},
   "source": [
    "## Part E\n",
    "\n",
    "Write some simple code in Python and Numpy to simulate the Monte Hall problem and verify your results from **Parts A-D**.\n",
    "\n",
    "We are providing you with the structure of the code, fill it the formulas for calculations/polling/switching etc. "
   ]
  },
  {
   "cell_type": "code",
   "execution_count": 42,
   "metadata": {},
   "outputs": [],
   "source": [
    "import numpy as np \n",
    "def make_a_deal(switch=True):\n",
    "    doors = list(range(3))\n",
    "    car = np.random.choice(doors)\n",
    "    first_choice = np.random.choice(doors)\n",
    "    montes_options = list(set(doors)-set([car])-set([first_choice]))\n",
    "    goat = np.random.choice(montes_options)\n",
    "    final_choice = (set(doors)-set([goat])-set([first_choice])).pop() if switch else first_choice\n",
    "    return final_choice == car\n",
    "\n",
    "def monte_hall_sim(switch=True, num_trials=int(1e3)): \n",
    "    winners = 1\n",
    "    state = \"switching)\" if switch else \"not switching)\"\n",
    "    print(\"P(winning by \"+state+\" = {:.4f}\".format(winners/num_trials))"
   ]
  },
  {
   "cell_type": "code",
   "execution_count": 43,
   "metadata": {},
   "outputs": [],
   "source": [
    "# Uncomment and run the cells below "
   ]
  },
  {
   "cell_type": "code",
   "execution_count": 44,
   "metadata": {},
   "outputs": [
    {
     "name": "stdout",
     "output_type": "stream",
     "text": [
      "P(winning by switching) = 0.0000\n"
     ]
    }
   ],
   "source": [
    "monte_hall_sim(switch=True, num_trials=int(1e5))\n",
    "\n",
    "\n",
    "\n",
    "#P(winning by switching) = 0.6675"
   ]
  },
  {
   "cell_type": "code",
   "execution_count": 45,
   "metadata": {},
   "outputs": [
    {
     "name": "stdout",
     "output_type": "stream",
     "text": [
      "P(winning by not switching) = 0.0000\n"
     ]
    }
   ],
   "source": [
    "monte_hall_sim(switch=False, num_trials=int(1e5))\n",
    "\n",
    "\n",
    "\n",
    "# P(winning by not switching) = 0.3351"
   ]
  },
  {
   "cell_type": "code",
   "execution_count": 29,
   "metadata": {},
   "outputs": [],
   "source": [
    "# Record your observations here "
   ]
  },
  {
   "cell_type": "markdown",
   "metadata": {},
   "source": [
    "## Summary \n",
    "\n",
    "In this lab, we used Bayesian calculations to solve the Monty Hall problem. We also looked at running a simulation in Numpy to prove our results through repeated random sampling from the given probability distributions. We found the results to be same as what we calculated by hand. Once again, we see how Bayesian logic can truly reflect a real life phenomenon in terms of prior and posterior knowledge. "
   ]
  }
 ],
 "metadata": {
  "kernelspec": {
   "display_name": "Python 3",
   "language": "python",
   "name": "python3"
  },
  "language_info": {
   "codemirror_mode": {
    "name": "ipython",
    "version": 3
   },
   "file_extension": ".py",
   "mimetype": "text/x-python",
   "name": "python",
   "nbconvert_exporter": "python",
   "pygments_lexer": "ipython3",
   "version": "3.6.6"
  }
 },
 "nbformat": 4,
 "nbformat_minor": 2
}
